{
 "cells": [
  {
   "cell_type": "markdown",
   "id": "9cedc12b-f064-4a5e-9af3-0beab8895bc8",
   "metadata": {},
   "source": [
    "## Import Libraries"
   ]
  },
  {
   "cell_type": "code",
   "execution_count": 1,
   "id": "44898428-a6ab-45ab-9ee6-135ce6e8c736",
   "metadata": {},
   "outputs": [],
   "source": [
    "import math\n",
    "import random\n",
    "import string"
   ]
  },
  {
   "cell_type": "markdown",
   "id": "003f2da2-de00-4c92-8170-58d7fe06876a",
   "metadata": {},
   "source": [
    "# Prime Number\n"
   ]
  },
  {
   "cell_type": "code",
   "execution_count": 2,
   "id": "9b1097ce-a47b-4ea4-8537-600d7152c7f1",
   "metadata": {},
   "outputs": [
    {
     "name": "stdin",
     "output_type": "stream",
     "text": [
      "Enter a number 25\n"
     ]
    },
    {
     "name": "stdout",
     "output_type": "stream",
     "text": [
      "It is Not Prime\n"
     ]
    }
   ],
   "source": [
    "x=int(input(\"Enter a number\"))\n",
    "if x>1:\n",
    "    for i in range(2,x):\n",
    "        if x%i==0:\n",
    "            print(\"It is Not Prime\")\n",
    "            break\n",
    "    else:\n",
    "        print(\"It is Prime\")\n",
    "            \n",
    "\n"
   ]
  },
  {
   "cell_type": "markdown",
   "id": "f6688214-5daf-487a-a4f5-45e2538e9a5b",
   "metadata": {},
   "source": [
    "# Random Number"
   ]
  },
  {
   "cell_type": "code",
   "execution_count": 3,
   "id": "b1637b36-8469-4fac-a86e-62858b4498ba",
   "metadata": {},
   "outputs": [
    {
     "name": "stdout",
     "output_type": "stream",
     "text": [
      "12 34\n"
     ]
    },
    {
     "name": "stdin",
     "output_type": "stream",
     "text": [
      "Enter your number 25\n"
     ]
    },
    {
     "name": "stdout",
     "output_type": "stream",
     "text": [
      "Sorry, Try again\n"
     ]
    }
   ],
   "source": [
    "## x=random.randint(1,30)\n",
    "y=random.randint(20,40)\n",
    "\n",
    "count_num=x*y\n",
    "print(x,y)\n",
    "user_input=int(input(\"Enter your number\"))\n",
    "if user_input==count_num:\n",
    "    print(\"Your guess is correct\")\n",
    "else:\n",
    "    print(\"Sorry, Try again\")\n"
   ]
  },
  {
   "cell_type": "markdown",
   "id": "37d0d689-e0d2-42cc-8c10-fe9d24e400c4",
   "metadata": {},
   "source": [
    "# Squre of even odd number"
   ]
  },
  {
   "cell_type": "code",
   "execution_count": 4,
   "id": "4e8b25ac-4ea0-4d7b-b5c1-4c7117ecce11",
   "metadata": {},
   "outputs": [
    {
     "name": "stdout",
     "output_type": "stream",
     "text": [
      "100^210000\n",
      "102^210404\n",
      "104^210816\n",
      "106^211236\n",
      "108^211664\n",
      "110^212100\n",
      "112^212544\n",
      "114^212996\n",
      "116^213456\n",
      "118^213924\n",
      "120^214400\n",
      "122^214884\n",
      "124^215376\n",
      "126^215876\n",
      "128^216384\n",
      "130^216900\n",
      "132^217424\n",
      "134^217956\n",
      "136^218496\n",
      "138^219044\n",
      "140^219600\n",
      "142^220164\n",
      "144^220736\n",
      "146^221316\n",
      "148^221904\n",
      "150^222500\n",
      "152^223104\n",
      "154^223716\n",
      "156^224336\n",
      "158^224964\n",
      "160^225600\n",
      "162^226244\n",
      "164^226896\n",
      "166^227556\n",
      "168^228224\n",
      "170^228900\n",
      "172^229584\n",
      "174^230276\n",
      "176^230976\n",
      "178^231684\n",
      "180^232400\n",
      "182^233124\n",
      "184^233856\n",
      "186^234596\n",
      "188^235344\n",
      "190^236100\n",
      "192^236864\n",
      "194^237636\n",
      "196^238416\n",
      "198^239204\n",
      "200^240000\n"
     ]
    }
   ],
   "source": [
    "for i in range(100,201):\n",
    "    if  i%2 ==0:\n",
    "        print(f\"{i}^2{i**2}\")"
   ]
  },
  {
   "cell_type": "code",
   "execution_count": 5,
   "id": "6e8929e1-ea4d-48f7-82a3-a9d0dd35b255",
   "metadata": {},
   "outputs": [
    {
     "name": "stdout",
     "output_type": "stream",
     "text": [
      "101^210201\n",
      "103^210609\n",
      "105^211025\n",
      "107^211449\n",
      "109^211881\n",
      "111^212321\n",
      "113^212769\n",
      "115^213225\n",
      "117^213689\n",
      "119^214161\n",
      "121^214641\n",
      "123^215129\n",
      "125^215625\n",
      "127^216129\n",
      "129^216641\n",
      "131^217161\n",
      "133^217689\n",
      "135^218225\n",
      "137^218769\n",
      "139^219321\n",
      "141^219881\n",
      "143^220449\n",
      "145^221025\n",
      "147^221609\n",
      "149^222201\n",
      "151^222801\n",
      "153^223409\n",
      "155^224025\n",
      "157^224649\n",
      "159^225281\n",
      "161^225921\n",
      "163^226569\n",
      "165^227225\n",
      "167^227889\n",
      "169^228561\n",
      "171^229241\n",
      "173^229929\n",
      "175^230625\n",
      "177^231329\n",
      "179^232041\n",
      "181^232761\n",
      "183^233489\n",
      "185^234225\n",
      "187^234969\n",
      "189^235721\n",
      "191^236481\n",
      "193^237249\n",
      "195^238025\n",
      "197^238809\n",
      "199^239601\n"
     ]
    }
   ],
   "source": [
    "for i in range(100,201):\n",
    "    if  i%2 !=0:\n",
    "        print(f\"{i}^2{i**2}\")"
   ]
  },
  {
   "cell_type": "markdown",
   "id": "473421b6-17a2-4746-a908-1bceadf14df3",
   "metadata": {},
   "source": [
    "# Word count\n"
   ]
  },
  {
   "cell_type": "code",
   "execution_count": 1,
   "id": "e33c0f51-c798-461b-84e9-685d51959edf",
   "metadata": {},
   "outputs": [
    {
     "name": "stdout",
     "output_type": "stream",
     "text": [
      "'this': 1\n",
      "'text': 1\n",
      "'will': 1\n",
      "'be': 1\n",
      "'used': 1\n",
      "'to': 1\n",
      "'demonstrate': 1\n",
      "'the': 1\n",
      "'word': 1\n",
      "'counter': 1\n"
     ]
    }
   ],
   "source": [
    "from collections import Counter\n",
    "\n",
    "input_text = \" This text will be used to demonstrate the word counter.\"\n",
    "\n",
    "import string\n",
    "cleaned_text = input_text.lower().translate(str.maketrans('', '', string.punctuation))\n",
    "\n",
    "words = cleaned_text.split()\n",
    "\n",
    "word_counts = Counter(words)\n",
    "\n",
    "for word, count in word_counts.items():\n",
    "    print(f\"'{word}': {count}\")"
   ]
  },
  {
   "cell_type": "markdown",
   "id": "96fe01e2-5839-4010-b9a4-ffea653f9598",
   "metadata": {},
   "source": [
    "# Check for Palindrome"
   ]
  },
  {
   "cell_type": "code",
   "execution_count": 2,
   "id": "58e8b0b0-4074-456f-8521-e7a6eca1947f",
   "metadata": {},
   "outputs": [
    {
     "name": "stdin",
     "output_type": "stream",
     "text": [
      "Enter the string 121\n"
     ]
    },
    {
     "name": "stdout",
     "output_type": "stream",
     "text": [
      "True\n"
     ]
    }
   ],
   "source": [
    " def is_palindrome(input_string):\n",
    "   \n",
    "   \n",
    "    cleaned_string = ''.join(char.lower() for char in input_string if char.isalnum())\n",
    "    \n",
    "    \n",
    "    return cleaned_string == cleaned_string[::-1]\n",
    "\n",
    "\n",
    "input_text =input(\"Enter the string\")\n",
    "print(is_palindrome(input_text))  # Output: True"
   ]
  },
  {
   "cell_type": "code",
   "execution_count": null,
   "id": "b7fcd436-e6d8-4048-a698-d9552155a8ca",
   "metadata": {},
   "outputs": [],
   "source": []
  }
 ],
 "metadata": {
  "kernelspec": {
   "display_name": "Python 3 (ipykernel)",
   "language": "python",
   "name": "python3"
  },
  "language_info": {
   "codemirror_mode": {
    "name": "ipython",
    "version": 3
   },
   "file_extension": ".py",
   "mimetype": "text/x-python",
   "name": "python",
   "nbconvert_exporter": "python",
   "pygments_lexer": "ipython3",
   "version": "3.13.5"
  }
 },
 "nbformat": 4,
 "nbformat_minor": 5
}
