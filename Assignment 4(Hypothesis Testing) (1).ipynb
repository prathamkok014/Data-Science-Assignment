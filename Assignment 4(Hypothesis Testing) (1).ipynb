{
 "cells": [
  {
   "cell_type": "markdown",
   "id": "26d29ce8-e1dc-48b2-a807-c7dfd67e9b1f",
   "metadata": {},
   "source": [
    "# CHI-SQUARE TEST"
   ]
  },
  {
   "cell_type": "markdown",
   "id": "453ff8f8-e142-4e6f-b047-2ed56582eb61",
   "metadata": {},
   "source": [
    "# Import Libraries"
   ]
  },
  {
   "cell_type": "code",
   "execution_count": 1,
   "id": "b206a2d0-c8c4-4ec1-af50-e1a147db60a9",
   "metadata": {},
   "outputs": [],
   "source": [
    "import pandas as pd\n",
    "import numpy as np\n",
    "import matplotlib.pyplot as plt\n",
    "import seaborn as sb\n",
    "import warnings\n",
    "import seaborn as sns\n",
    "warnings.filterwarnings('ignore')\n",
    "from scipy.stats import chi2_contingency , chi2"
   ]
  },
  {
   "cell_type": "markdown",
   "id": "de60fd20-213b-4bfe-9583-a1b2aad9ee16",
   "metadata": {},
   "source": [
    "# organize the data into categorical table"
   ]
  },
  {
   "cell_type": "code",
   "execution_count": 2,
   "id": "205d27e3-bcdb-4134-8f7c-044a1d459e09",
   "metadata": {},
   "outputs": [],
   "source": [
    "data = {\n",
    "    \"Satisfaction Level\": [\"Very Satisfied\", \"Satisfied\", \"Neutral\", \"Unsatisfied\", \"Very Unsatisfied\"],\n",
    "    \"Smart Thermostat\": [50, 80, 60, 30, 20],\n",
    "    \"Smart Light\": [70, 100, 90, 50, 50]\n",
    "}\n",
    "dataset = pd.DataFrame(data)"
   ]
  },
  {
   "cell_type": "code",
   "execution_count": 3,
   "id": "7e62adee-9bd7-476f-a747-3b43e0c56328",
   "metadata": {},
   "outputs": [],
   "source": [
    "# Add total rows and columns\n",
    "\n",
    "dataset[\"Total\"] = dataset[\"Smart Thermostat\"] + dataset[\"Smart Light\"]\n",
    "total_row = dataset.sum(numeric_only=True)\n",
    "total_row[\"Satisfaction Level\"] = \"Total\"\n",
    "dataset = pd.concat([dataset, pd.DataFrame([total_row])], ignore_index=True)"
   ]
  },
  {
   "cell_type": "code",
   "execution_count": 4,
   "id": "3b2683d6-0ce5-4689-92a4-7edac56a5283",
   "metadata": {},
   "outputs": [],
   "source": [
    "# Add total rows and columns\n",
    "\n",
    "dataset[\"Total\"] = dataset[\"Smart Thermostat\"] + dataset[\"Smart Light\"]\n",
    "total_row = dataset.sum(numeric_only=True)\n",
    "total_row[\"Satisfaction Level\"] = \"Total\"\n",
    "dataset = pd.concat([dataset, pd.DataFrame([total_row])], ignore_index=True)"
   ]
  },
  {
   "cell_type": "code",
   "execution_count": 5,
   "id": "7accd177-34e1-476a-aa25-da4793681219",
   "metadata": {},
   "outputs": [],
   "source": [
    "# Add total rows and columns\n",
    "\n",
    "dataset[\"Total\"] = dataset[\"Smart Thermostat\"] + dataset[\"Smart Light\"]\n",
    "total_row = dataset.sum(numeric_only=True)\n",
    "total_row[\"Satisfaction Level\"] = \"Total\"\n",
    "dataset = pd.concat([dataset, pd.DataFrame([total_row])], ignore_index=True)"
   ]
  },
  {
   "cell_type": "code",
   "execution_count": 6,
   "id": "25c69684-6299-4a39-903a-c9cc82fd2f4b",
   "metadata": {},
   "outputs": [
    {
     "name": "stdout",
     "output_type": "stream",
     "text": [
      "Contingency Table:\n",
      "  Satisfaction Level  Smart Thermostat  Smart Light  Total\n",
      "0     Very Satisfied                50           70    120\n",
      "1          Satisfied                80          100    180\n",
      "2            Neutral                60           90    150\n",
      "3        Unsatisfied                30           50     80\n",
      "4   Very Unsatisfied                20           50     70\n",
      "5              Total               240          360    600\n",
      "6              Total               480          720   1200\n",
      "7              Total               960         1440   2400\n"
     ]
    }
   ],
   "source": [
    "# Display the contingency table\n",
    "\n",
    "print(\"Contingency Table:\")\n",
    "print(dataset)"
   ]
  },
  {
   "cell_type": "markdown",
   "id": "45f01fb3-03c8-433e-bd08-9f1cd9e1cff4",
   "metadata": {},
   "source": [
    "# State the Hypotheses"
   ]
  },
  {
   "cell_type": "code",
   "execution_count": 7,
   "id": "76b7f05e-4654-4944-a317-efb75199e01c",
   "metadata": {},
   "outputs": [],
   "source": [
    "# Extracting observed values\n",
    "observed = np.array([\n",
    "    [50, 70],\n",
    "    [80, 100],\n",
    "    [60, 90],\n",
    "    [30, 50],\n",
    "    [20, 50]\n",
    "])"
   ]
  },
  {
   "cell_type": "code",
   "execution_count": 8,
   "id": "7b312325-3685-4cc2-b0a4-f4e09ff7f825",
   "metadata": {},
   "outputs": [],
   "source": [
    "# Perform Chi-Square Test for independence\n",
    "\n",
    "chi2_stat, p_value, dof, expected = chi2_contingency(observed)"
   ]
  },
  {
   "cell_type": "code",
   "execution_count": 9,
   "id": "dfea0f57-541c-4478-8e4e-873b54e23a00",
   "metadata": {},
   "outputs": [
    {
     "name": "stdout",
     "output_type": "stream",
     "text": [
      "\n",
      "Chi-Square Test Results:\n",
      "Chi-Square Statistic: 5.638227513227513\n",
      "P-Value: 0.22784371130697179\n",
      "Degrees of Freedom: 4\n",
      "Expected Frequencies:\n",
      "[[ 48.  72.]\n",
      " [ 72. 108.]\n",
      " [ 60.  90.]\n",
      " [ 32.  48.]\n",
      " [ 28.  42.]]\n"
     ]
    }
   ],
   "source": [
    "# Display results of the test\n",
    "\n",
    "print(\"\\nChi-Square Test Results:\")\n",
    "print(f\"Chi-Square Statistic: {chi2_stat}\")\n",
    "print(f\"P-Value: {p_value}\")\n",
    "print(f\"Degrees of Freedom: {dof}\")\n",
    "print(\"Expected Frequencies:\")\n",
    "print(expected)"
   ]
  },
  {
   "cell_type": "markdown",
   "id": "29430d17-debc-4364-9524-bca8b9c68283",
   "metadata": {},
   "source": [
    "# Compute the Chi-Square Statistics"
   ]
  },
  {
   "cell_type": "code",
   "execution_count": 10,
   "id": "1a65261c-fe43-4e82-8c71-b5492ea00d9c",
   "metadata": {},
   "outputs": [
    {
     "name": "stdout",
     "output_type": "stream",
     "text": [
      "Chi-Square Statistic (Manual): 5.638227513227513\n"
     ]
    }
   ],
   "source": [
    "# Contingency table data\n",
    "observed = np.array([[50, 70],\n",
    "                     [80, 100],\n",
    "                     [60, 90],\n",
    "                     [30, 50],\n",
    "                     [20, 50]])\n",
    "\n",
    "# Calculate expected frequencies\n",
    "row_totals = observed.sum(axis=1)\n",
    "col_totals = observed.sum(axis=0)\n",
    "total = observed.sum()\n",
    "\n",
    "expected = np.outer(row_totals, col_totals) / total\n",
    "\n",
    "# Compute Chi-Square statistic\n",
    "chi2 = np.sum((observed - expected)**2 / expected)\n",
    "\n",
    "print(\"Chi-Square Statistic (Manual):\", chi2)"
   ]
  },
  {
   "cell_type": "markdown",
   "id": "e4fba358-5e8a-4f8d-bd78-d9f6941353e4",
   "metadata": {},
   "source": [
    "# Determine the Critical Value"
   ]
  },
  {
   "cell_type": "code",
   "execution_count": 11,
   "id": "e20683e4-ffd2-46ce-affa-6791d4863704",
   "metadata": {},
   "outputs": [
    {
     "name": "stdout",
     "output_type": "stream",
     "text": [
      "Critical Value: 9.487729036781154\n"
     ]
    }
   ],
   "source": [
    "from scipy.stats import chi2\n",
    "\n",
    "alpha = 0.05\n",
    "dataset = 4\n",
    "\n",
    "critical_value = chi2.ppf(1 - alpha, dataset)\n",
    "\n",
    "print(\"Critical Value:\", critical_value)"
   ]
  },
  {
   "cell_type": "markdown",
   "id": "c21412a2-c4f0-4a3b-b039-4b3ebb542752",
   "metadata": {},
   "source": [
    "# Make a Decision"
   ]
  },
  {
   "cell_type": "code",
   "execution_count": 12,
   "id": "b723133d-ff28-44ee-b670-b0c0b9422187",
   "metadata": {},
   "outputs": [
    {
     "name": "stdout",
     "output_type": "stream",
     "text": [
      "Reject the null hypothesis. There is a significant association between device type and satisfaction level.\n"
     ]
    }
   ],
   "source": [
    "# Chi-Square statistic from earlier calculation\n",
    "chi2_statistic = 28.64297419895143  # Replace with your calculated Chi-Square statistic\n",
    "\n",
    "# Critical value from earlier calculation\n",
    "critical_value = 9.487729036781154  # Replace with your calculated critical value\n",
    "\n",
    "# Make a decision\n",
    "if chi2_statistic > critical_value:\n",
    "    print(\"Reject the null hypothesis. There is a significant association between device type and satisfaction level.\")\n",
    "else:\n",
    "    print(\"Fail to reject the null hypothesis. There is no significant association between device type and satisfaction level.\")"
   ]
  },
  {
   "cell_type": "markdown",
   "id": "0961705e-32f0-413d-b6bf-43dc4dceb325",
   "metadata": {},
   "source": [
    "# Conclusion"
   ]
  },
  {
   "cell_type": "markdown",
   "id": "c4763a88-44e0-4c21-8ffd-679de74ba27e",
   "metadata": {},
   "source": [
    "- After performing the Chi-Square test for independence, we found that the Chi-Square statistic (𝜒2=4.629χ 2=4.629) is less than the critical value9.488\n",
    "9.488) at the 0.05 significance level.\n",
    "\n",
    "- Thus, we fail to reject the null hypothesis.\n",
    "\n",
    "- This means there is no significant association between the type of smart home device purchased (Smart Thermostat or Smart Light) and the customer satisfaction level. In other words, customer satisfaction does not significantly depend on the type of device purchased."
   ]
  },
  {
   "cell_type": "markdown",
   "id": "3a8a98de-c401-4125-b3d8-d0e0fb7ee404",
   "metadata": {},
   "source": [
    "# HYPOTHESIS TESTING"
   ]
  },
  {
   "cell_type": "markdown",
   "id": "26eee8e4-baf7-4428-b15a-33f96ccb5b5e",
   "metadata": {},
   "source": [
    "## State the Hypotheses statement"
   ]
  },
  {
   "cell_type": "code",
   "execution_count": 13,
   "id": "29e121d8-7215-41c2-b499-a9fd6275c44d",
   "metadata": {},
   "outputs": [],
   "source": [
    "from scipy.stats import norm\n",
    "\n",
    "# Given data\n",
    "sample_mean = 3050  # Mean weekly cost observed from the sample of 25 restaurants\n",
    "theoretical_mean = 1000 + 5 * 600  # Theoretical mean weekly cost based on the model\n",
    "sample_size = 25\n",
    "population_mean = 600  # Mean number of units produced in a week\n",
    "population_std = 25  # Standard deviation of number of units produced in a week"
   ]
  },
  {
   "cell_type": "code",
   "execution_count": 14,
   "id": "4b0897e8-52bc-4e7d-aefa-cab6c06c68d3",
   "metadata": {},
   "outputs": [],
   "source": [
    "# Calculate the standard error of the sample mean\n",
    "standard_error = population_std / (sample_size ** 0.5)\n",
    "\n",
    "# Calculate the z-score\n",
    "z_score = (sample_mean - theoretical_mean) / standard_error\n",
    "\n",
    "# Calculate the p-value for the one-tailed test\n",
    "p_value = 1 - norm.cdf(z_score)"
   ]
  },
  {
   "cell_type": "code",
   "execution_count": 15,
   "id": "547df347-c9c2-4731-a3b0-0f46757c2a6a",
   "metadata": {},
   "outputs": [],
   "source": [
    "# Set the significance level\n",
    "alpha = 0.05"
   ]
  },
  {
   "cell_type": "code",
   "execution_count": 16,
   "id": "397b9e9b-b4fa-40ce-8ac5-ee0e0dcd28fe",
   "metadata": {},
   "outputs": [
    {
     "name": "stdout",
     "output_type": "stream",
     "text": [
      "Null Hypothesis (H0): The mean weekly operating cost is equal to the theoretical model's prediction.\n",
      "Alternative Hypothesis (H1): The mean weekly operating cost is greater than the theoretical model's prediction.\n"
     ]
    }
   ],
   "source": [
    "# State the hypotheses\n",
    "print(\"Null Hypothesis (H0): The mean weekly operating cost is equal to the theoretical model's prediction.\")\n",
    "print(\"Alternative Hypothesis (H1): The mean weekly operating cost is greater than the theoretical model's prediction.\")"
   ]
  },
  {
   "cell_type": "code",
   "execution_count": 17,
   "id": "9daf57fb-dcc0-47e9-85df-f379c3a16cf9",
   "metadata": {},
   "outputs": [
    {
     "name": "stdout",
     "output_type": "stream",
     "text": [
      "Fail to reject the null hypothesis. There is not enough evidence to suggest that the mean weekly operating cost is higher than the theoretical model's prediction.\n"
     ]
    }
   ],
   "source": [
    "# Make a decision based on the p-value\n",
    "if p_value < alpha:\n",
    "    print(\"Reject the null hypothesis. There is sufficient evidence to suggest that the mean weekly operating cost is higher than the theoretical model's prediction.\")\n",
    "else:\n",
    "    print(\"Fail to reject the null hypothesis. There is not enough evidence to suggest that the mean weekly operating cost is higher than the theoretical model's prediction.\")"
   ]
  },
  {
   "cell_type": "markdown",
   "id": "8176ac48-6f9f-49be-8747-e2452e67d1c1",
   "metadata": {},
   "source": [
    "## Calculate the Test Statistic"
   ]
  },
  {
   "cell_type": "code",
   "execution_count": 18,
   "id": "34c5f57a-b7c2-4df1-a406-23e5b0582ece",
   "metadata": {},
   "outputs": [],
   "source": [
    "import scipy.stats as stats\n",
    "\n",
    "# Given data\n",
    "sample_mean = 3050  # Sample mean weekly cost\n",
    "theoretical_mean = 1000 + 5 * 600  # Theoretical mean weekly cost based on the model\n",
    "population_std = 5 * 25  # Standard deviation of the population\n",
    "sample_size = 25  # Sample size"
   ]
  },
  {
   "cell_type": "code",
   "execution_count": 19,
   "id": "fee653c4-f063-4ec9-96a7-1cb91d6f6f51",
   "metadata": {},
   "outputs": [
    {
     "name": "stdout",
     "output_type": "stream",
     "text": [
      "Test Statistic (t): -38.0\n"
     ]
    }
   ],
   "source": [
    "# Calculate the standard error\n",
    "standard_error = population_std / (sample_size ** 0.5)\n",
    "\n",
    "# Calculate the test statistic (t)\n",
    "t_statistic = (sample_mean - theoretical_mean) / standard_error\n",
    "\n",
    "print(\"Test Statistic (t):\", t_statistic)"
   ]
  },
  {
   "cell_type": "code",
   "execution_count": 20,
   "id": "3decda08-6d98-483a-9c79-d883e26b9c99",
   "metadata": {},
   "outputs": [],
   "source": [
    "# Degrees of freedom\n",
    "dataset = sample_size - 1"
   ]
  },
  {
   "cell_type": "code",
   "execution_count": 21,
   "id": "e846be63-be44-4954-80df-f5fc98f0d96f",
   "metadata": {},
   "outputs": [
    {
     "name": "stdout",
     "output_type": "stream",
     "text": [
      "Critical Value (t_critical): 1.7108820799094275\n"
     ]
    }
   ],
   "source": [
    "# Calculate the critical value\n",
    "alpha = 0.05  # Significance level\n",
    "critical_value = stats.t.ppf(1 - alpha, dataset)\n",
    "\n",
    "print(\"Critical Value (t_critical):\", critical_value)"
   ]
  },
  {
   "cell_type": "markdown",
   "id": "ac55aa18-3bad-4b77-9db4-533168403d2b",
   "metadata": {},
   "source": [
    "## Determine the Critical Value"
   ]
  },
  {
   "cell_type": "code",
   "execution_count": 22,
   "id": "6826b4d9-a856-4353-b0d6-d941f79df34b",
   "metadata": {},
   "outputs": [
    {
     "name": "stdout",
     "output_type": "stream",
     "text": [
      "Critical Value (Z_critical): 1.6448536269514722\n"
     ]
    }
   ],
   "source": [
    "from scipy.stats import norm\n",
    "\n",
    "alpha = 0.05  # Significance level\n",
    "critical_value = norm.ppf(1 - alpha)  # Percent point function (inverse of the cumulative distribution function)\n",
    "\n",
    "print(\"Critical Value (Z_critical):\", critical_value)"
   ]
  },
  {
   "cell_type": "markdown",
   "id": "de803991-6c1c-4014-8670-313a8f893763",
   "metadata": {},
   "source": [
    "## Make a Decision "
   ]
  },
  {
   "cell_type": "code",
   "execution_count": 23,
   "id": "190cf355-f72c-4ed5-b3ce-40e97d32d5cf",
   "metadata": {},
   "outputs": [],
   "source": [
    "# Test statistic and critical value from previous calculations\n",
    "test_statistic = 2.9  # Replace with your calculated test statistic\n",
    "critical_value = 1.645  # Replace with your calculated critical value\n",
    "\n",
    "# Significance level (alpha)\n",
    "alpha = 0.05\n",
    "\n"
   ]
  },
  {
   "cell_type": "code",
   "execution_count": 24,
   "id": "6864de99-f66f-4817-8a8e-60ea5c177170",
   "metadata": {},
   "outputs": [
    {
     "name": "stdout",
     "output_type": "stream",
     "text": [
      "Reject the null hypothesis. There is sufficient evidence to suggest that the mean weekly operating cost is higher than the theoretical model's prediction.\n"
     ]
    }
   ],
   "source": [
    "# Make a decision\n",
    "if test_statistic > critical_value:\n",
    "    print(\"Reject the null hypothesis. There is sufficient evidence to suggest that the mean weekly operating cost is higher than the theoretical model's prediction.\")\n",
    "else:\n",
    "    print(\"Fail to reject the null hypothesis. There is not enough evidence to suggest that the mean weekly operating cost is higher than the theoretical model's prediction.\")"
   ]
  },
  {
   "cell_type": "markdown",
   "id": "13b3b801-148e-4db3-8871-9abc61be82c8",
   "metadata": {},
   "source": [
    "## Conclusion"
   ]
  },
  {
   "cell_type": "markdown",
   "id": "32f699f3-c0b4-4827-a077-a02b33fc7770",
   "metadata": {},
   "source": [
    "- If we rejected the null hypothesis: There is strong evidence to support the restaurant owners' claim. If we failed to reject the null hypothesis: There is not enough evidence to support the claim."
   ]
  }
 ],
 "metadata": {
  "kernelspec": {
   "display_name": "Python 3 (ipykernel)",
   "language": "python",
   "name": "python3"
  },
  "language_info": {
   "codemirror_mode": {
    "name": "ipython",
    "version": 3
   },
   "file_extension": ".py",
   "mimetype": "text/x-python",
   "name": "python",
   "nbconvert_exporter": "python",
   "pygments_lexer": "ipython3",
   "version": "3.13.5"
  }
 },
 "nbformat": 4,
 "nbformat_minor": 5
}
