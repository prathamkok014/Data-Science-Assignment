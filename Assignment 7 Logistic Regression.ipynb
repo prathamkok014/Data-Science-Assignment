{
 "cells": [
  {
   "cell_type": "markdown",
   "id": "076a41d4-4b9c-4c6e-8b4d-aa1b525f7983",
   "metadata": {},
   "source": [
    "## Import libraries"
   ]
  },
  {
   "cell_type": "code",
   "execution_count": null,
   "id": "de97cce8-db80-4de6-ba55-ab241174b1d1",
   "metadata": {},
   "outputs": [],
   "source": [
    "import numpy as np\n",
    "import pandas as pd\n",
    "import matplotlib.pyplot as plt\n",
    "import seaborn as sns\n",
    "from statsmodels.graphics.regressionplots import influence_plot\n",
    "import statsmodels.formula.api as smf\n",
    "sns.set_theme(style='darkgrid',palette = 'rainbow')\n",
    "import warnings\n",
    "warnings.filterwarnings('ignore')"
   ]
  },
  {
   "cell_type": "code",
   "execution_count": null,
   "id": "d6b4ec41-ec0d-4bf0-ae5a-8dea81965264",
   "metadata": {},
   "outputs": [],
   "source": [
    "df = pd.read_csv('Titanic_train.csv')\n",
    "df.head()"
   ]
  },
  {
   "cell_type": "markdown",
   "id": "fca7a3b8-b390-40b3-94bc-b3c6e8f35a82",
   "metadata": {},
   "source": [
    "## EDA"
   ]
  },
  {
   "cell_type": "code",
   "execution_count": null,
   "id": "90342647-8f0f-4255-b483-69cc383660af",
   "metadata": {},
   "outputs": [],
   "source": [
    "df.shape"
   ]
  },
  {
   "cell_type": "code",
   "execution_count": null,
   "id": "903356ee-e387-4f3f-a524-6f545a8c4a05",
   "metadata": {},
   "outputs": [],
   "source": [
    "df.info()"
   ]
  },
  {
   "cell_type": "code",
   "execution_count": null,
   "id": "9c614045-8836-4792-b901-410c10fa463d",
   "metadata": {},
   "outputs": [],
   "source": [
    "df.describe()"
   ]
  },
  {
   "cell_type": "markdown",
   "id": "d4548bce-2d51-4898-a8e4-49029a9fc4e6",
   "metadata": {},
   "source": [
    "## Visualization"
   ]
  },
  {
   "cell_type": "code",
   "execution_count": null,
   "id": "01ed62d5-e34d-4266-a90f-310c6b692f66",
   "metadata": {},
   "outputs": [],
   "source": [
    "df_new=['PassengerId','Survived','Pclass','Age','SibSp','Parch','Fare']"
   ]
  },
  {
   "cell_type": "code",
   "execution_count": null,
   "id": "fdb92a81-2215-4efb-9f9e-3d8d51fabca0",
   "metadata": {},
   "outputs": [],
   "source": [
    "for col in df_new:\n",
    "    plt.figure(figsize=(6,4))\n",
    "    sns.histplot(df[col],kde=True)"
   ]
  },
  {
   "cell_type": "code",
   "execution_count": null,
   "id": "4b7f381d-54c5-46f9-9f27-0f95c5c9b377",
   "metadata": {},
   "outputs": [],
   "source": [
    "plt.figure(figsize=(8,6))\n",
    "sns.boxplot(df)\n",
    "plt.title(\"Titanic\")"
   ]
  },
  {
   "cell_type": "code",
   "execution_count": null,
   "id": "b7c411a8-7e5b-450a-a14c-1d90e6186c54",
   "metadata": {},
   "outputs": [],
   "source": [
    "sns.pairplot(df)"
   ]
  },
  {
   "cell_type": "code",
   "execution_count": null,
   "id": "c2c477dc-af6f-4bb6-bc32-93600e913276",
   "metadata": {},
   "outputs": [],
   "source": [
    "plt.figure(figsize=(8,4))\n",
    "sns.heatmap(df.corr(numeric_only=True),annot=True)"
   ]
  },
  {
   "cell_type": "markdown",
   "id": "e2a0b657-d07d-4a58-a13c-72dc3e9026cf",
   "metadata": {},
   "source": [
    "## Data Preprocessing"
   ]
  },
  {
   "cell_type": "code",
   "execution_count": null,
   "id": "af861753-b31a-4806-87b2-b24a55a770fc",
   "metadata": {},
   "outputs": [],
   "source": [
    "df.head()"
   ]
  },
  {
   "cell_type": "code",
   "execution_count": null,
   "id": "fac81784-b123-406f-bf04-28db73114619",
   "metadata": {},
   "outputs": [],
   "source": [
    "df.shape"
   ]
  },
  {
   "cell_type": "code",
   "execution_count": null,
   "id": "9a3a14fd-5296-420d-b5ac-c822c13b015e",
   "metadata": {},
   "outputs": [],
   "source": [
    "df.isnull().sum()"
   ]
  },
  {
   "cell_type": "code",
   "execution_count": null,
   "id": "68990323-2b68-4edf-8329-6308084c26f7",
   "metadata": {},
   "outputs": [],
   "source": [
    "df.isnull().sum()/df.shape[0]*100"
   ]
  },
  {
   "cell_type": "code",
   "execution_count": null,
   "id": "ede9317e-68c7-4a25-be2c-433f425bb6a6",
   "metadata": {},
   "outputs": [],
   "source": [
    "df.drop(columns=['Cabin'],inplace=True)"
   ]
  },
  {
   "cell_type": "code",
   "execution_count": null,
   "id": "5ba8310b-c1d9-471b-bec6-bafe76cc2787",
   "metadata": {},
   "outputs": [],
   "source": [
    "df['Age'] = df['Age'].fillna(df['Age'].median())"
   ]
  },
  {
   "cell_type": "code",
   "execution_count": null,
   "id": "c385e581-2b52-49c0-a951-c0e3b6156a6b",
   "metadata": {},
   "outputs": [],
   "source": [
    "from sklearn.preprocessing import LabelEncoder"
   ]
  },
  {
   "cell_type": "code",
   "execution_count": null,
   "id": "aa510b55-aa28-4c91-a1ff-e185af087366",
   "metadata": {},
   "outputs": [],
   "source": [
    "encoder=LabelEncoder()\n",
    "for columns in df.columns:\n",
    "    df[columns]=encoder.fit_transform(df[columns])"
   ]
  },
  {
   "cell_type": "code",
   "execution_count": null,
   "id": "79bdd4ba-145d-4232-93e1-7251303d5715",
   "metadata": {},
   "outputs": [],
   "source": [
    "df.head()"
   ]
  },
  {
   "cell_type": "code",
   "execution_count": null,
   "id": "74394b08-f11c-4d44-ad7b-21ad3d8d83f8",
   "metadata": {},
   "outputs": [],
   "source": [
    "df = pd.get_dummies(df,columns=['Sex','Embarked'],dtype=int)\n",
    "df"
   ]
  },
  {
   "cell_type": "markdown",
   "id": "aa570ee8-74d3-493b-8906-dcabd34e7a12",
   "metadata": {},
   "source": [
    "## Now cleaning the Test Data set"
   ]
  },
  {
   "cell_type": "code",
   "execution_count": null,
   "id": "c1770900-6e20-4503-a994-dab363dcd737",
   "metadata": {},
   "outputs": [],
   "source": [
    "data = pd.read_csv('Titanic_test.csv')\n",
    "data"
   ]
  },
  {
   "cell_type": "code",
   "execution_count": null,
   "id": "3cebf3be-5cfd-445e-9631-b53ce145d115",
   "metadata": {},
   "outputs": [],
   "source": [
    "data.shape"
   ]
  },
  {
   "cell_type": "code",
   "execution_count": null,
   "id": "4b2ce22f-b237-4777-9bf9-f02a9fcea8fa",
   "metadata": {},
   "outputs": [],
   "source": [
    "data.isnull().sum()"
   ]
  },
  {
   "cell_type": "code",
   "execution_count": null,
   "id": "676199ce-cba0-4887-b62f-fb2efb339210",
   "metadata": {},
   "outputs": [],
   "source": [
    "data.isnull().sum()/data.shape[0]*100"
   ]
  },
  {
   "cell_type": "code",
   "execution_count": null,
   "id": "59606329-d801-4fa5-8047-efa10d698b9f",
   "metadata": {},
   "outputs": [],
   "source": [
    "\n",
    "data['Age'] = data['Age'].fillna(data['Age'].median())\n",
    "data"
   ]
  },
  {
   "cell_type": "code",
   "execution_count": null,
   "id": "922d1d96-568d-4f7a-8be7-51ba363ac32b",
   "metadata": {},
   "outputs": [],
   "source": [
    "\n",
    "data.drop(columns=['Cabin'],inplace=True)\n",
    "data.head()"
   ]
  },
  {
   "cell_type": "code",
   "execution_count": null,
   "id": "137f83c1-7b60-42aa-bd97-d17cf7acbf40",
   "metadata": {},
   "outputs": [],
   "source": [
    "encoder=LabelEncoder()\n",
    "for columns in data.columns:\n",
    "    data[columns]=encoder.fit_transform(data[columns])"
   ]
  },
  {
   "cell_type": "code",
   "execution_count": null,
   "id": "aa14fca3-4083-4fb8-84df-1c9d5b1547f7",
   "metadata": {},
   "outputs": [],
   "source": [
    "data = pd.get_dummies(data,columns=['Sex','Embarked'],dtype=int)\n",
    "data.head()"
   ]
  },
  {
   "cell_type": "markdown",
   "id": "435a7469-3b72-42b2-ad67-04637dfef7ba",
   "metadata": {},
   "source": [
    "## Data Preparation"
   ]
  },
  {
   "cell_type": "code",
   "execution_count": null,
   "id": "92440eb6-8508-4280-ba8c-6acacc1acc12",
   "metadata": {},
   "outputs": [],
   "source": [
    "x = df.drop('Survived',axis=1)\n",
    "y = df['Survived']"
   ]
  },
  {
   "cell_type": "code",
   "execution_count": null,
   "id": "e5198f5c-fb2b-4dbd-8b99-5ae1bf0dd832",
   "metadata": {},
   "outputs": [],
   "source": [
    "from sklearn.model_selection import train_test_split"
   ]
  },
  {
   "cell_type": "code",
   "execution_count": null,
   "id": "f7bc0eda-3e5e-48b4-830b-8401d3cf67ed",
   "metadata": {},
   "outputs": [],
   "source": [
    "xtrain,xtest,ytrain,ytest = train_test_split(x,y,test_size=0.2,random_state=1)"
   ]
  },
  {
   "cell_type": "code",
   "execution_count": null,
   "id": "02b92007-78c5-4fa6-9de2-ae54ca96c6c1",
   "metadata": {},
   "outputs": [],
   "source": [
    "from sklearn.linear_model import LogisticRegression"
   ]
  },
  {
   "cell_type": "code",
   "execution_count": null,
   "id": "c0d66d1a-dfd6-4d50-9c2c-99750c43df12",
   "metadata": {},
   "outputs": [],
   "source": [
    "xtrain,xtest,ytrain,ytest = train_test_split(x,y,test_size=0.2,random_state=1)"
   ]
  },
  {
   "cell_type": "markdown",
   "id": "3a751478-2693-42c4-9d27-635d6cf42c6f",
   "metadata": {},
   "source": [
    "## Model Building"
   ]
  },
  {
   "cell_type": "code",
   "execution_count": null,
   "id": "cf276cf7-1594-41db-a78e-b0a76e593bec",
   "metadata": {},
   "outputs": [],
   "source": [
    "from sklearn.linear_model import LogisticRegression"
   ]
  },
  {
   "cell_type": "code",
   "execution_count": null,
   "id": "9121f1d4-06da-4554-b6ad-958a9cd1ad7d",
   "metadata": {},
   "outputs": [],
   "source": [
    "logomodel = LogisticRegression()\n",
    "logomodel.fit(xtrain,ytrain)"
   ]
  },
  {
   "cell_type": "code",
   "execution_count": null,
   "id": "b69567be-527b-4c9c-b011-a7e181c636da",
   "metadata": {},
   "outputs": [],
   "source": [
    "logomodel.score(xtrain,ytrain)"
   ]
  },
  {
   "cell_type": "code",
   "execution_count": null,
   "id": "184b18ad-7c1f-49bf-bbf9-3ceb15d7e807",
   "metadata": {},
   "outputs": [],
   "source": [
    "logomodel.score(xtest,ytest)"
   ]
  },
  {
   "cell_type": "markdown",
   "id": "837bab3f-3a88-4f18-bd74-011fe0d3a7cc",
   "metadata": {},
   "source": [
    "## Making Prediction"
   ]
  },
  {
   "cell_type": "code",
   "execution_count": null,
   "id": "0a16358a-0d82-4e9d-a3d7-31c13bef48e6",
   "metadata": {},
   "outputs": [],
   "source": [
    "predictions = logomodel.predict(xtest)"
   ]
  },
  {
   "cell_type": "code",
   "execution_count": null,
   "id": "d9095f2e-76b5-4d47-b427-450a65bca47c",
   "metadata": {},
   "outputs": [],
   "source": [
    "final_prediction = pd.DataFrame({'PassengerId':xtest['PassengerId'],'Survived':predictions})"
   ]
  },
  {
   "cell_type": "code",
   "execution_count": null,
   "id": "ec82dacc-72d3-4052-befe-54343f00a6fd",
   "metadata": {},
   "outputs": [],
   "source": [
    "final_prediction"
   ]
  },
  {
   "cell_type": "markdown",
   "id": "332d321e-d3fa-4643-8079-3c273ae414ed",
   "metadata": {},
   "source": [
    "## Model Evaluation"
   ]
  },
  {
   "cell_type": "code",
   "execution_count": null,
   "id": "a13a8408-6d9f-40b5-8e9a-09ef547f31de",
   "metadata": {},
   "outputs": [],
   "source": [
    "from sklearn.metrics import accuracy_score,confusion_matrix,classification_report\n"
   ]
  },
  {
   "cell_type": "code",
   "execution_count": null,
   "id": "8b02a5ab-bc23-4a0e-aa0f-95f0cc0a2911",
   "metadata": {},
   "outputs": [],
   "source": [
    "y_predict_train=logomodel.predict(xtrain)"
   ]
  },
  {
   "cell_type": "code",
   "execution_count": null,
   "id": "39fb2f52-06a6-47a6-9771-42a775fff03a",
   "metadata": {},
   "outputs": [],
   "source": [
    "accuracy_score=accuracy_score(ytrain,y_predict_train)"
   ]
  },
  {
   "cell_type": "code",
   "execution_count": null,
   "id": "5fee0110-7c6f-413a-ae38-1dd11997c68c",
   "metadata": {},
   "outputs": [],
   "source": [
    "y_predict_test=logomodel.predict(xtest)"
   ]
  },
  {
   "cell_type": "code",
   "execution_count": null,
   "id": "0232e67f-f097-4e59-b6c6-cfc1b4828136",
   "metadata": {},
   "outputs": [],
   "source": [
    "print(accuracy_score)"
   ]
  },
  {
   "cell_type": "code",
   "execution_count": null,
   "id": "415fa816-7fc4-4190-87d3-4373ec67f4bb",
   "metadata": {},
   "outputs": [],
   "source": [
    "confusion_matrix(ytrain,y_predict_train)"
   ]
  },
  {
   "cell_type": "code",
   "execution_count": null,
   "id": "e40200d2-f402-47ea-8260-008689223a36",
   "metadata": {},
   "outputs": [],
   "source": [
    "sns.heatmap(confusion_matrix(ytrain,y_predict_train), annot=True,fmt='g')"
   ]
  },
  {
   "cell_type": "code",
   "execution_count": null,
   "id": "8a6a6417-04fa-467a-8840-7a78525eedde",
   "metadata": {},
   "outputs": [],
   "source": [
    "print(classification_report(ytrain,y_predict_train))"
   ]
  },
  {
   "cell_type": "code",
   "execution_count": null,
   "id": "8c04c698-6e15-48e9-b2c9-8683b6ac9618",
   "metadata": {},
   "outputs": [],
   "source": [
    "ytest"
   ]
  },
  {
   "cell_type": "code",
   "execution_count": null,
   "id": "6bc927d4-e88b-4036-88c4-e68709433a59",
   "metadata": {},
   "outputs": [],
   "source": [
    "y_predict_test=logomodel.predict(xtest)\n"
   ]
  },
  {
   "cell_type": "code",
   "execution_count": null,
   "id": "caa6b16c-cc20-4161-a591-55b660b30873",
   "metadata": {},
   "outputs": [],
   "source": [
    "confusion_matrix(ytest,y_predict_test)"
   ]
  },
  {
   "cell_type": "code",
   "execution_count": null,
   "id": "3cbcda06-1686-4ff8-8270-b9c9e118fc0c",
   "metadata": {},
   "outputs": [],
   "source": [
    "sns.heatmap(confusion_matrix(ytest,y_predict_test), annot=True,fmt='g')"
   ]
  },
  {
   "cell_type": "code",
   "execution_count": null,
   "id": "8d332d9a-8546-4353-b47a-ffa6e5bb3b3c",
   "metadata": {},
   "outputs": [],
   "source": [
    "print(accuracy_score)"
   ]
  },
  {
   "cell_type": "code",
   "execution_count": null,
   "id": "80e18e14-eea7-4d1f-bab0-aa977db10021",
   "metadata": {},
   "outputs": [],
   "source": [
    "from sklearn.metrics import f1_score, precision_score, recall_score"
   ]
  },
  {
   "cell_type": "code",
   "execution_count": null,
   "id": "85343163-b77a-4665-97bb-9c424f1c72af",
   "metadata": {},
   "outputs": [],
   "source": [
    "logomodel = LogisticRegression()\n",
    "logomodel.fit(xtrain, ytrain)"
   ]
  },
  {
   "cell_type": "code",
   "execution_count": null,
   "id": "eb640d68-218f-4dde-9396-5fe4e98f120a",
   "metadata": {},
   "outputs": [],
   "source": [
    "y_pred = logomodel.predict(xtest)"
   ]
  },
  {
   "cell_type": "code",
   "execution_count": null,
   "id": "c0338ccb-897e-4e87-8417-029f11b846ee",
   "metadata": {},
   "outputs": [],
   "source": [
    "precision = precision_score(ytest, y_pred)\n",
    "recall = recall_score(ytest, y_pred)\n",
    "f1 = f1_score(ytest, y_pred)"
   ]
  },
  {
   "cell_type": "code",
   "execution_count": null,
   "id": "7da435e4-14d1-4305-b78a-dfd739f857d6",
   "metadata": {},
   "outputs": [],
   "source": [
    "print(f\"Precision: {precision:.2f}\")\n",
    "print(f\"Recall: {recall:.2f}\")\n",
    "print(f\"F1 Score: {f1:.2f}\")"
   ]
  },
  {
   "cell_type": "code",
   "execution_count": null,
   "id": "6984afa1-30ef-4c1e-9a46-3a16d776d944",
   "metadata": {},
   "outputs": [],
   "source": [
    "from sklearn.metrics import roc_curve, roc_auc_score, auc\n",
    "import matplotlib.pyplot as plt\n",
    "y_prob = logomodel.predict_proba(xtest)[:, 1]\n",
    "fpr, tpr, thresholds = roc_curve(ytest, y_prob)\n",
    "roc_auc = auc(fpr, tpr)\n",
    "roc_auc_score_value = roc_auc_score(ytest, y_prob)\n",
    "\n",
    "plt.figure(figsize=(6, 4))\n",
    "plt.plot(fpr, tpr, label=f'ROC Curve (AUC = {roc_auc:.2f})')\n",
    "plt.plot([0, 1], [0, 1], linestyle='--', color='gray')\n",
    "plt.xlabel('False Positive Rate')\n",
    "plt.ylabel('True Positive Rate')\n",
    "plt.title('ROC Curve - Logistic Regression')\n",
    "plt.legend(loc='lower right')\n",
    "plt.grid(True)\n",
    "plt.tight_layout()\n",
    "plt.show()\n",
    "print(\"AUC Score:\", roc_auc_score_value)\n"
   ]
  },
  {
   "cell_type": "markdown",
   "id": "408f7882-db8f-40fe-92b0-950015003d43",
   "metadata": {},
   "source": [
    "import matplotlib.pyplot as plt\n",
    "plt.plot(fpr, tpr, color='red', label='logit model ( area  = %0.2f)'%auc)\n",
    "plt.plot([0, 1], [0, 1], 'k--')\n",
    "plt.xlabel('False Positive Rate or [1 - True Negative Rate]')\n",
    "plt.ylabel('True Positive Rate')"
   ]
  },
  {
   "cell_type": "code",
   "execution_count": null,
   "id": "53769b23-dd57-4dd7-b917-956c317bfae3",
   "metadata": {},
   "outputs": [],
   "source": [
    "coafficiants = logomodel.coef_[0] \n",
    "\n",
    "intercept = logomodel.intercept_[0]"
   ]
  },
  {
   "cell_type": "markdown",
   "id": "f06b0067-8d47-402e-a6e5-190916cdf8f4",
   "metadata": {},
   "source": [
    "## Interpretaion"
   ]
  },
  {
   "cell_type": "code",
   "execution_count": null,
   "id": "1f87338a-cbb7-4599-ab3e-b161b50bb210",
   "metadata": {},
   "outputs": [],
   "source": [
    "coefficients = pd.DataFrame({\n",
    "    'Feature': x.columns,\n",
    "    'Coefficient': logomodel.coef_[0],\n",
    "    'Odds Ratio': [round(np.exp(coef), 2) for coef in logomodel.coef_[0]]\n",
    "})\n",
    "print(coefficients)"
   ]
  },
  {
   "cell_type": "markdown",
   "id": "a15f54df-3309-4a8e-b97e-fd350b2a9eec",
   "metadata": {},
   "source": [
    "## Model Deployment"
   ]
  },
  {
   "cell_type": "code",
   "execution_count": null,
   "id": "72a6dfc3-77ba-45c4-ac65-5d7915de7e64",
   "metadata": {},
   "outputs": [],
   "source": [
    "#! pip install streamlit"
   ]
  },
  {
   "cell_type": "code",
   "execution_count": 1,
   "id": "b8503998-15f5-4ef3-848b-323a652ce4bc",
   "metadata": {},
   "outputs": [
    {
     "name": "stdout",
     "output_type": "stream",
     "text": [
      "Working directory: C:\\Users\\pawar.SARPANCH\\Assignment Data Science\n",
      " Model saved as 'logomodel.pkl'\n"
     ]
    }
   ],
   "source": [
    "import pickle\n",
    "from sklearn.linear_model import LogisticRegression\n",
    "from sklearn.datasets import make_classification\n",
    "import os\n",
    "import warnings\n",
    "warnings.filterwarnings(\"ignore\")\n",
    "print(\"Working directory:\", os.getcwd())\n",
    "\n",
    "\n",
    "X, y = make_classification(\n",
    "    n_samples=100,\n",
    "    n_features=7,\n",
    "    n_informative=2,\n",
    "    n_redundant=0,  \n",
    "    random_state=42\n",
    ")\n",
    "\n",
    "\n",
    "model = LogisticRegression()\n",
    "model.fit(X, y)\n",
    "\n",
    "# Save model\n",
    "with open('logomodel.pkl', 'wb') as f:\n",
    "    pickle.dump(model, f)\n",
    "\n",
    "print(\" Model saved as 'logomodel.pkl'\")"
   ]
  },
  {
   "cell_type": "code",
   "execution_count": 4,
   "id": "36da1b80-9dc1-4d79-82ca-a929cd5b281b",
   "metadata": {},
   "outputs": [
    {
     "name": "stderr",
     "output_type": "stream",
     "text": [
      "2025-08-05 19:08:04.414 Thread 'MainThread': missing ScriptRunContext! This warning can be ignored when running in bare mode.\n",
      "2025-08-05 19:08:04.415 Thread 'MainThread': missing ScriptRunContext! This warning can be ignored when running in bare mode.\n",
      "2025-08-05 19:08:04.415 Thread 'MainThread': missing ScriptRunContext! This warning can be ignored when running in bare mode.\n",
      "2025-08-05 19:08:04.416 Thread 'MainThread': missing ScriptRunContext! This warning can be ignored when running in bare mode.\n",
      "2025-08-05 19:08:04.417 Thread 'MainThread': missing ScriptRunContext! This warning can be ignored when running in bare mode.\n",
      "2025-08-05 19:08:04.417 Thread 'MainThread': missing ScriptRunContext! This warning can be ignored when running in bare mode.\n",
      "2025-08-05 19:08:04.418 Thread 'MainThread': missing ScriptRunContext! This warning can be ignored when running in bare mode.\n",
      "2025-08-05 19:08:04.419 Thread 'MainThread': missing ScriptRunContext! This warning can be ignored when running in bare mode.\n",
      "2025-08-05 19:08:04.420 Thread 'MainThread': missing ScriptRunContext! This warning can be ignored when running in bare mode.\n",
      "2025-08-05 19:08:04.421 Thread 'MainThread': missing ScriptRunContext! This warning can be ignored when running in bare mode.\n",
      "2025-08-05 19:08:04.421 Thread 'MainThread': missing ScriptRunContext! This warning can be ignored when running in bare mode.\n",
      "2025-08-05 19:08:04.423 Thread 'MainThread': missing ScriptRunContext! This warning can be ignored when running in bare mode.\n",
      "2025-08-05 19:08:04.423 Thread 'MainThread': missing ScriptRunContext! This warning can be ignored when running in bare mode.\n",
      "2025-08-05 19:08:04.424 Thread 'MainThread': missing ScriptRunContext! This warning can be ignored when running in bare mode.\n",
      "2025-08-05 19:08:04.425 Thread 'MainThread': missing ScriptRunContext! This warning can be ignored when running in bare mode.\n",
      "2025-08-05 19:08:04.425 Thread 'MainThread': missing ScriptRunContext! This warning can be ignored when running in bare mode.\n",
      "2025-08-05 19:08:04.426 Thread 'MainThread': missing ScriptRunContext! This warning can be ignored when running in bare mode.\n",
      "2025-08-05 19:08:04.427 Thread 'MainThread': missing ScriptRunContext! This warning can be ignored when running in bare mode.\n",
      "2025-08-05 19:08:04.427 Thread 'MainThread': missing ScriptRunContext! This warning can be ignored when running in bare mode.\n",
      "2025-08-05 19:08:04.428 Thread 'MainThread': missing ScriptRunContext! This warning can be ignored when running in bare mode.\n",
      "2025-08-05 19:08:04.428 Thread 'MainThread': missing ScriptRunContext! This warning can be ignored when running in bare mode.\n",
      "2025-08-05 19:08:04.429 Thread 'MainThread': missing ScriptRunContext! This warning can be ignored when running in bare mode.\n",
      "2025-08-05 19:08:04.430 Thread 'MainThread': missing ScriptRunContext! This warning can be ignored when running in bare mode.\n",
      "2025-08-05 19:08:04.431 Thread 'MainThread': missing ScriptRunContext! This warning can be ignored when running in bare mode.\n",
      "2025-08-05 19:08:04.432 Thread 'MainThread': missing ScriptRunContext! This warning can be ignored when running in bare mode.\n",
      "2025-08-05 19:08:04.432 Thread 'MainThread': missing ScriptRunContext! This warning can be ignored when running in bare mode.\n",
      "2025-08-05 19:08:04.433 Thread 'MainThread': missing ScriptRunContext! This warning can be ignored when running in bare mode.\n",
      "2025-08-05 19:08:04.434 Thread 'MainThread': missing ScriptRunContext! This warning can be ignored when running in bare mode.\n",
      "2025-08-05 19:08:04.435 Thread 'MainThread': missing ScriptRunContext! This warning can be ignored when running in bare mode.\n",
      "2025-08-05 19:08:04.436 Thread 'MainThread': missing ScriptRunContext! This warning can be ignored when running in bare mode.\n",
      "2025-08-05 19:08:04.437 Thread 'MainThread': missing ScriptRunContext! This warning can be ignored when running in bare mode.\n",
      "2025-08-05 19:08:04.438 Thread 'MainThread': missing ScriptRunContext! This warning can be ignored when running in bare mode.\n",
      "2025-08-05 19:08:04.438 Thread 'MainThread': missing ScriptRunContext! This warning can be ignored when running in bare mode.\n",
      "2025-08-05 19:08:04.440 Thread 'MainThread': missing ScriptRunContext! This warning can be ignored when running in bare mode.\n",
      "2025-08-05 19:08:04.441 Thread 'MainThread': missing ScriptRunContext! This warning can be ignored when running in bare mode.\n",
      "2025-08-05 19:08:04.441 Thread 'MainThread': missing ScriptRunContext! This warning can be ignored when running in bare mode.\n",
      "2025-08-05 19:08:04.442 Thread 'MainThread': missing ScriptRunContext! This warning can be ignored when running in bare mode.\n",
      "2025-08-05 19:08:04.442 Thread 'MainThread': missing ScriptRunContext! This warning can be ignored when running in bare mode.\n",
      "2025-08-05 19:08:04.443 Thread 'MainThread': missing ScriptRunContext! This warning can be ignored when running in bare mode.\n",
      "2025-08-05 19:08:04.444 Thread 'MainThread': missing ScriptRunContext! This warning can be ignored when running in bare mode.\n",
      "2025-08-05 19:08:04.444 Thread 'MainThread': missing ScriptRunContext! This warning can be ignored when running in bare mode.\n",
      "2025-08-05 19:08:04.445 Thread 'MainThread': missing ScriptRunContext! This warning can be ignored when running in bare mode.\n",
      "2025-08-05 19:08:04.446 Thread 'MainThread': missing ScriptRunContext! This warning can be ignored when running in bare mode.\n",
      "2025-08-05 19:08:04.446 Thread 'MainThread': missing ScriptRunContext! This warning can be ignored when running in bare mode.\n",
      "2025-08-05 19:08:04.447 Thread 'MainThread': missing ScriptRunContext! This warning can be ignored when running in bare mode.\n",
      "2025-08-05 19:08:04.448 Thread 'MainThread': missing ScriptRunContext! This warning can be ignored when running in bare mode.\n",
      "2025-08-05 19:08:04.448 Thread 'MainThread': missing ScriptRunContext! This warning can be ignored when running in bare mode.\n",
      "2025-08-05 19:08:04.449 Thread 'MainThread': missing ScriptRunContext! This warning can be ignored when running in bare mode.\n",
      "2025-08-05 19:08:04.450 Thread 'MainThread': missing ScriptRunContext! This warning can be ignored when running in bare mode.\n",
      "2025-08-05 19:08:04.451 Thread 'MainThread': missing ScriptRunContext! This warning can be ignored when running in bare mode.\n",
      "2025-08-05 19:08:04.451 Thread 'MainThread': missing ScriptRunContext! This warning can be ignored when running in bare mode.\n"
     ]
    }
   ],
   "source": [
    "import streamlit as st\n",
    "import numpy as np\n",
    "import pickle\n",
    "\n",
    "# Load the trained model\n",
    "with open('logomodel.pkl', 'rb') as f:\n",
    "    model = pickle.load(f)\n",
    "\n",
    "# Streamlit App Title and Description\n",
    "st.title(\"Employee Performance Prediction\")\n",
    "st.markdown(\"Provide the employee details below to predict their performance outcome using Logistic Regression.\")\n",
    "\n",
    "# User Input Fields with Descriptive Labels\n",
    "age = st.number_input(\"Employee Age (Years)\", min_value=18, max_value=65)\n",
    "monthly_income = st.number_input(\"Monthly Income (in ₹)\", min_value=0)\n",
    "experience_years = st.number_input(\"Total Years of Experience\", min_value=0.0)\n",
    "projects_handled = st.number_input(\"Number of Completed Projects\", min_value=0)\n",
    "training_score = st.slider(\"Training Assessment Score (%)\", 0, 100)\n",
    "certifications = st.number_input(\"Number of Professional Certifications\", min_value=0)\n",
    "working_hours_per_week = st.number_input(\"Average Weekly Working Hours\", min_value=0, max_value=100)\n",
    "\n",
    "# Prepare input for prediction\n",
    "if st.button(\"Predict\"):\n",
    "    input_data = np.array([[age, monthly_income, experience_years, projects_handled,\n",
    "                            training_score, certifications, working_hours_per_week]])\n",
    "    prediction = model.predict(input_data)\n",
    "\n",
    "    # Display prediction result\n",
    "    st.subheader(\" Prediction Result\")\n",
    "    st.success(f\"Predicted Performance Outcome: {prediction[0]}\")\n"
   ]
  },
  {
   "cell_type": "code",
   "execution_count": 5,
   "id": "e9c31dd9-9d5d-4b66-9a91-a701f8ed6cf0",
   "metadata": {},
   "outputs": [
    {
     "name": "stdout",
     "output_type": "stream",
     "text": [
      "Overwriting model.py\n"
     ]
    }
   ],
   "source": [
    "%%writefile model.py\n",
    "import streamlit as st\n",
    "st.title(\"Test Streamlit App\")\n",
    "st.write(\"This is a simple app to verify Streamlit setup.\")"
   ]
  },
  {
   "cell_type": "code",
   "execution_count": null,
   "id": "d647e831-6187-4d18-9ef6-487d946bbdab",
   "metadata": {},
   "outputs": [],
   "source": [
    "!streamlit run model.py"
   ]
  },
  {
   "cell_type": "markdown",
   "id": "8a8c6405-db74-49c4-84d5-d073d97144b8",
   "metadata": {},
   "source": [
    "## Interview Question"
   ]
  },
  {
   "cell_type": "markdown",
   "id": "ec06cb5b-4061-47ae-86ee-bc2e832c80b9",
   "metadata": {},
   "source": [
    "1.What is the difference between precision and recall?\n",
    "\n",
    "Precision and Recall are two important metrics used to evaluate the performance of classification models:\n",
    "\n",
    "Precision answers the question: \"Of all the positive predictions made by the model, how many are actually correct?\" For example, if a model predicts 10 emails as spam but only 6 are truly spam, the precision is 60%. It focuses on avoiding false alarms (false positives). This is useful when making a wrong positive prediction is costly, like flagging important emails as spam.\n",
    "\n",
    "Recall answers the question: \"Of all the actual positive cases, how many did the model correctly identify?\" For example, if there are 10 spam emails and the model only identifies 7 of them as spam, the recall is 70%. It focuses on not missing any true cases (false negatives). This is critical in situations like detecting diseases where missing a case can have serious consequences.\n",
    "\n",
    "\n",
    "2.What is cross-validation, and why is it important in binary classification?\n",
    "\n",
    "Cross-validation is a technique used to evaluate the performance of a model by splitting the data into multiple subsets and training/testing the model on different combinations of these subsets.\n",
    "\n",
    "Prevents Overfitting: By training and testing the model on different subsets, cross-validation ensures the model doesn’t memorize the training data but learns general patterns.\n",
    "\n",
    "Estimates Model Performance: It helps assess how the model will perform on unseen data by evaluating it on multiple splits of the dataset.\n",
    "\n",
    "Handles Imbalanced Data: In binary classification, where one class may be underrepresented, cross-validation helps in understanding model performance across different class distributions.\n",
    "\n",
    "Reduces Bias: Cross-validation gives a more robust estimate of model performance by reducing the variability that may occur if the model is trained/tested on a single split of data."
   ]
  },
  {
   "cell_type": "code",
   "execution_count": null,
   "id": "8174bba8-a7e2-4b83-8c49-ae6bdb272061",
   "metadata": {},
   "outputs": [],
   "source": []
  }
 ],
 "metadata": {
  "kernelspec": {
   "display_name": "Python 3 (ipykernel)",
   "language": "python",
   "name": "python3"
  },
  "language_info": {
   "codemirror_mode": {
    "name": "ipython",
    "version": 3
   },
   "file_extension": ".py",
   "mimetype": "text/x-python",
   "name": "python",
   "nbconvert_exporter": "python",
   "pygments_lexer": "ipython3",
   "version": "3.13.5"
  }
 },
 "nbformat": 4,
 "nbformat_minor": 5
}
